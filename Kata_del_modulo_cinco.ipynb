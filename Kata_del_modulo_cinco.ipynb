{
 "cells": [
  {
   "cell_type": "markdown",
   "metadata": {},
   "source": [
    "Ejercicio1 - Utilizar operadores aritméticos\n",
    "\n",
    "Operadores aritméticos en Python"
   ]
  },
  {
   "cell_type": "code",
   "execution_count": 1,
   "metadata": {},
   "outputs": [],
   "source": [
    "DistanciaTierra1 = 149597870 # in kms\n",
    "DistanciaJupiter2 = 778547200 # in kms"
   ]
  },
  {
   "cell_type": "markdown",
   "metadata": {},
   "source": [
    "Realizar la operación"
   ]
  },
  {
   "cell_type": "code",
   "execution_count": 14,
   "metadata": {},
   "outputs": [
    {
     "name": "stdout",
     "output_type": "stream",
     "text": [
      "La distancia entre planetas en km es: -628949330\n",
      "La distancia entre planetas es: -390577533.93 en millas\n"
     ]
    }
   ],
   "source": [
    "operacion = (DistanciaJupiter2- DistanciaTierra1) * 0.621\n",
    "print('La distancia entre planetas en km es:', (DistanciaJupiter2- DistanciaTierra1))\n",
    "print('La distancia entre planetas es:', operacion, 'en millas')"
   ]
  },
  {
   "cell_type": "markdown",
   "metadata": {},
   "source": [
    "Ejercicio 2: convierte cadenas en números y usa valores absolutos\n",
    "\n",
    "Crear una aplicación para trabajar con números y entrada de usuario"
   ]
  },
  {
   "cell_type": "code",
   "execution_count": 22,
   "metadata": {},
   "outputs": [],
   "source": [
    "distanciaUno = input('¿Ingrese primer distancia?')\n",
    "distanciaDos = input('¿Ingrese segunda distancia?')"
   ]
  },
  {
   "cell_type": "markdown",
   "metadata": {},
   "source": [
    "Convertir a numero"
   ]
  },
  {
   "cell_type": "code",
   "execution_count": 23,
   "metadata": {},
   "outputs": [],
   "source": [
    "distanciaUno = float(distanciaUno)\n",
    "distanciaDos = float(distanciaDos)"
   ]
  },
  {
   "cell_type": "markdown",
   "metadata": {},
   "source": [
    "Realizar el cálculo y convertir a valor absoluto, convirtiendo de km a millas"
   ]
  },
  {
   "cell_type": "code",
   "execution_count": 28,
   "metadata": {},
   "outputs": [
    {
     "name": "stdout",
     "output_type": "stream",
     "text": [
      "La distancia del sol entre planetas en kilometros es: 17.0\n",
      "La distacnia del sol entre planetas en valor absoluto y millas es: 10.557\n"
     ]
    }
   ],
   "source": [
    "calculo = (distanciaDos - distanciaUno) * 0.621\n",
    "print('La distancia del sol entre planetas en kilometros es:', abs(distanciaDos - distanciaUno))\n",
    "print ('La distacnia del sol entre planetas en valor absoluto y millas es:', abs(calculo))"
   ]
  }
 ],
 "metadata": {
  "interpreter": {
   "hash": "5e399bc4abbacd67fa9fbe2c1b470d5e4732b246c93a8ca774f974402d4bca7e"
  },
  "kernelspec": {
   "display_name": "Python 3.10.2 64-bit",
   "language": "python",
   "name": "python3"
  },
  "language_info": {
   "codemirror_mode": {
    "name": "ipython",
    "version": 3
   },
   "file_extension": ".py",
   "mimetype": "text/x-python",
   "name": "python",
   "nbconvert_exporter": "python",
   "pygments_lexer": "ipython3",
   "version": "3.10.2"
  },
  "orig_nbformat": 4
 },
 "nbformat": 4,
 "nbformat_minor": 2
}
